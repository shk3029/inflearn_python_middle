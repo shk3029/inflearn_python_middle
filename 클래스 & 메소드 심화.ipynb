{
 "cells": [
  {
   "cell_type": "markdown",
   "id": "6bd46e78",
   "metadata": {},
   "source": [
    "# Chapter02 - 01"
   ]
  },
  {
   "cell_type": "markdown",
   "id": "7eb96315",
   "metadata": {},
   "source": [
    "객체 지향 프로그래밍(OOP) -코드의 재사용, 코드 중복 방지\n",
    "\n",
    "규모가 큰 프로젝트(프로그램) -> 함수 중심"
   ]
  },
  {
   "cell_type": "markdown",
   "id": "8fb7e169",
   "metadata": {},
   "source": [
    "## 일반적인 코딩"
   ]
  },
  {
   "cell_type": "code",
   "execution_count": 13,
   "id": "dd1db402",
   "metadata": {},
   "outputs": [
    {
     "name": "stdout",
     "output_type": "stream",
     "text": [
      "['Ferrari', 'Audi']\n",
      "[{'color': 'white'}, {'price': 8000}]\n"
     ]
    }
   ],
   "source": [
    "# 차량 1\n",
    "car_company_1 = 'Ferrari'\n",
    "car_detail_1 = [\n",
    "    {'color' : 'white'},\n",
    "    {'horsepower' : 400},\n",
    "    {'price' : 8000}\n",
    "]\n",
    "\n",
    "# 차량 2\n",
    "car_company_2 = 'Bmw'\n",
    "car_detail_2 = [\n",
    "    {'color' : 'Black'},\n",
    "    {'horsepower' : 270},\n",
    "    {'price' : 5000}\n",
    "]\n",
    "\n",
    "# 차량3\n",
    "car_company_2 = 'Audi'\n",
    "car_detail_2 = [\n",
    "    {'color' : 'Silver'},\n",
    "    {'horsepower' : 300},\n",
    "    {'price' : 6000}\n",
    "]\n",
    "\n",
    "# 리스트 구조\n",
    "# 관리하기가 불편\n",
    "# 인덱스 접근 시 실수 가능성, 삭제 불편\n",
    "car_company_list = ['Ferrari', 'Bmw', 'Audi']\n",
    "car_detail_list = [\n",
    "    {'color' : 'white','horsepower' : 400,'price' : 8000},\n",
    "    {'color' : 'Black','horsepower' : 270,'price' : 5000},\n",
    "    {'color' : 'Silver','horsepower' : 300,'price' : 6000} \n",
    "]\n",
    "\n",
    "del car_company_list[1]\n",
    "print(car_company_list)\n",
    "\n",
    "del car_detail_1[1]\n",
    "print(car_detail_1)"
   ]
  },
  {
   "cell_type": "code",
   "execution_count": 20,
   "id": "1c9abebb",
   "metadata": {},
   "outputs": [
    {
     "data": {
      "text/plain": [
       "'Ferrari'"
      ]
     },
     "execution_count": 20,
     "metadata": {},
     "output_type": "execute_result"
    }
   ],
   "source": [
    "# 딕셔너리 구조\n",
    "# 코드 반복 지속, 중첩 문제(키), 키 조회 예외 처리 등\n",
    "\n",
    "car_dict = [\n",
    "    {'car_company' : 'Ferrari', 'car_detail' :  {'color' : 'white','horsepower' : 400,'price' : 8000}},\n",
    "    {'car_company' : 'Bmw', 'car_detail' : {'color' : 'Black','horsepower' : 270,'price' : 5000}},\n",
    "    {'car_company' : 'Audi', 'car_detail' : {'color' : 'Silver','horsepower' : 300,'price' : 6000}} ,\n",
    "]\n",
    "\n",
    "car = car_dict.pop(0)\n",
    "# 딕셔너리로 pop해서 key를 뺄 수 있음\n",
    "car.pop('car_company')"
   ]
  },
  {
   "cell_type": "code",
   "execution_count": 43,
   "id": "92f26662",
   "metadata": {},
   "outputs": [
    {
     "name": "stdout",
     "output_type": "stream",
     "text": [
      "str : Ferrai-{'color': 'White', 'horsepower': 400, 'price': 8000} \n",
      "str : Bmw-{'color': 'Black', 'horsepower': 270, 'price': 5000} \n",
      "str : Audi-{'color': 'Silver', 'horsepower': 300, 'price': 6000} \n",
      "{'_company': 'Ferrai', '_details': {'color': 'White', 'horsepower': 400, 'price': 8000}}\n",
      "{'_company': 'Bmw', '_details': {'color': 'Black', 'horsepower': 270, 'price': 5000}}\n",
      "{'_company': 'Bmw', '_details': {'color': 'Black', 'horsepower': 270, 'price': 5000}}\n",
      "[repr : Ferrai-{'color': 'White', 'horsepower': 400, 'price': 8000} , repr : Bmw-{'color': 'Black', 'horsepower': 270, 'price': 5000} , repr : Audi-{'color': 'Silver', 'horsepower': 300, 'price': 6000} ]\n",
      "repr : Ferrai-{'color': 'White', 'horsepower': 400, 'price': 8000} \n",
      "repr : Bmw-{'color': 'Black', 'horsepower': 270, 'price': 5000} \n",
      "repr : Audi-{'color': 'Silver', 'horsepower': 300, 'price': 6000} \n"
     ]
    }
   ],
   "source": [
    "# 클래스 구조\n",
    "# 구조 설계 후 재사용성 증가, 코드 반복 최소화, 메소드 활용\n",
    "\n",
    "class Car:\n",
    "    def __init__(self, company, details):\n",
    "        self._company = company\n",
    "        self._details = details\n",
    "    \n",
    "    # str vs repr (기본값은 str, 없으면 repr로 호출)\n",
    "    ## __str__ 사용자 레벨\n",
    "    def __str__(self):\n",
    "        return 'str : {}-{} '.format(self._company, self._details)\n",
    "    \n",
    "    ## __repr__ 개발자 레벨 (엄격하게 보고 싶을 때 사용)\n",
    "    ## 리스트 안에서 클래스 호출하면 이게 호출됨 \n",
    "    def __repr__(self):\n",
    "        return 'repr : {}-{} '.format(self._company, self._details)        \n",
    "    \n",
    "car1 = Car('Ferrai', {'color' : 'White', 'horsepower':400, 'price':8000})\n",
    "car2 = Car('Bmw', {'color' : 'Black','horsepower' : 270,'price' : 5000})\n",
    "car3 = Car('Audi', {'color' : 'Silver','horsepower' : 300,'price' : 6000})\n",
    "\n",
    "print(car1)\n",
    "print(car2)\n",
    "print(car3)\n",
    "\n",
    "# __dict__ : 클래스의 속성정보를 딕셔너리 형태로 다 볼 수 있음\n",
    "print(car1.__dict__)\n",
    "print(car2.__dict__)\n",
    "print(car2.__dict__)\n",
    "\n",
    "#print(dir(car1))\n",
    "\n",
    "# 리스트 선언\n",
    "car_list = []\n",
    "car_list.append(car1)\n",
    "car_list.append(car2)\n",
    "car_list.append(car3)\n",
    "\n",
    "print(car_list)\n",
    "for x in car_list:\n",
    "    #print(x)\n",
    "    print(repr(x)) # 명시적으로 호출할 수도 있음"
   ]
  },
  {
   "cell_type": "markdown",
   "id": "4f53e129",
   "metadata": {},
   "source": []
  },
  {
   "cell_type": "code",
   "execution_count": null,
   "id": "8dfa2575",
   "metadata": {},
   "outputs": [],
   "source": []
  },
  {
   "cell_type": "code",
   "execution_count": null,
   "id": "62844f63",
   "metadata": {},
   "outputs": [],
   "source": []
  },
  {
   "cell_type": "code",
   "execution_count": null,
   "id": "ef2adf04",
   "metadata": {},
   "outputs": [],
   "source": []
  },
  {
   "cell_type": "code",
   "execution_count": null,
   "id": "fbdd16ad",
   "metadata": {},
   "outputs": [],
   "source": []
  },
  {
   "cell_type": "code",
   "execution_count": null,
   "id": "9bcfeafe",
   "metadata": {},
   "outputs": [],
   "source": []
  },
  {
   "cell_type": "code",
   "execution_count": null,
   "id": "2c8dc303",
   "metadata": {},
   "outputs": [],
   "source": []
  }
 ],
 "metadata": {
  "kernelspec": {
   "display_name": "Python 3",
   "language": "python",
   "name": "python3"
  },
  "language_info": {
   "codemirror_mode": {
    "name": "ipython",
    "version": 3
   },
   "file_extension": ".py",
   "mimetype": "text/x-python",
   "name": "python",
   "nbconvert_exporter": "python",
   "pygments_lexer": "ipython3",
   "version": "3.8.8"
  }
 },
 "nbformat": 4,
 "nbformat_minor": 5
}

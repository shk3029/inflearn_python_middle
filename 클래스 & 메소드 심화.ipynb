{
 "cells": [
  {
   "cell_type": "markdown",
   "id": "6bd46e78",
   "metadata": {},
   "source": [
    "# Chapter02 - 01"
   ]
  },
  {
   "cell_type": "markdown",
   "id": "7eb96315",
   "metadata": {},
   "source": [
    "객체 지향 프로그래밍(OOP) -코드의 재사용, 코드 중복 방지\n",
    "\n",
    "규모가 큰 프로젝트(프로그램) -> 함수 중심"
   ]
  },
  {
   "cell_type": "markdown",
   "id": "8fb7e169",
   "metadata": {},
   "source": [
    "## 일반적인 코딩"
   ]
  },
  {
   "cell_type": "code",
   "execution_count": 13,
   "id": "dd1db402",
   "metadata": {},
   "outputs": [
    {
     "name": "stdout",
     "output_type": "stream",
     "text": [
      "['Ferrari', 'Audi']\n",
      "[{'color': 'white'}, {'price': 8000}]\n"
     ]
    }
   ],
   "source": [
    "# 차량 1\n",
    "car_company_1 = 'Ferrari'\n",
    "car_detail_1 = [\n",
    "    {'color' : 'white'},\n",
    "    {'horsepower' : 400},\n",
    "    {'price' : 8000}\n",
    "]\n",
    "\n",
    "# 차량 2\n",
    "car_company_2 = 'Bmw'\n",
    "car_detail_2 = [\n",
    "    {'color' : 'Black'},\n",
    "    {'horsepower' : 270},\n",
    "    {'price' : 5000}\n",
    "]\n",
    "\n",
    "# 차량3\n",
    "car_company_2 = 'Audi'\n",
    "car_detail_2 = [\n",
    "    {'color' : 'Silver'},\n",
    "    {'horsepower' : 300},\n",
    "    {'price' : 6000}\n",
    "]\n",
    "\n",
    "# 리스트 구조\n",
    "# 관리하기가 불편\n",
    "# 인덱스 접근 시 실수 가능성, 삭제 불편\n",
    "car_company_list = ['Ferrari', 'Bmw', 'Audi']\n",
    "car_detail_list = [\n",
    "    {'color' : 'white','horsepower' : 400,'price' : 8000},\n",
    "    {'color' : 'Black','horsepower' : 270,'price' : 5000},\n",
    "    {'color' : 'Silver','horsepower' : 300,'price' : 6000} \n",
    "]\n",
    "\n",
    "del car_company_list[1]\n",
    "print(car_company_list)\n",
    "\n",
    "del car_detail_1[1]\n",
    "print(car_detail_1)"
   ]
  },
  {
   "cell_type": "code",
   "execution_count": 5,
   "id": "1c9abebb",
   "metadata": {},
   "outputs": [],
   "source": []
  },
  {
   "cell_type": "code",
   "execution_count": null,
   "id": "d6c7a281",
   "metadata": {},
   "outputs": [],
   "source": []
  },
  {
   "cell_type": "code",
   "execution_count": null,
   "id": "b1e18c15",
   "metadata": {},
   "outputs": [],
   "source": []
  }
 ],
 "metadata": {
  "kernelspec": {
   "display_name": "Python 3",
   "language": "python",
   "name": "python3"
  },
  "language_info": {
   "codemirror_mode": {
    "name": "ipython",
    "version": 3
   },
   "file_extension": ".py",
   "mimetype": "text/x-python",
   "name": "python",
   "nbconvert_exporter": "python",
   "pygments_lexer": "ipython3",
   "version": "3.8.8"
  }
 },
 "nbformat": 4,
 "nbformat_minor": 5
}
